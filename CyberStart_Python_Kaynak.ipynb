{
 "cells": [
  {
   "cell_type": "markdown",
   "id": "02e04edc",
   "metadata": {},
   "source": [
    "# Kullanılabilecek Bağlantılar"
   ]
  },
  {
   "cell_type": "markdown",
   "id": "d7fd498b",
   "metadata": {},
   "source": [
    "YouTube Video Serisi => https://www.youtube.com/playlist?list=PL53hPTfoALoDdXd-VMDQEmKyiM5KamKDE\n",
    "\n",
    "Genel Anlatım => https://www.w3schools.com/python/python_intro.asp#:~:text=Why%20Python%3F,than%20some%20other%20programming%20languages,"
   ]
  },
  {
   "cell_type": "markdown",
   "id": "1c3451fb",
   "metadata": {},
   "source": [
    "Yeni Başlayanlar İçin 50'den Fazla En İyi ve Ücretsiz Python Kitabı => https://www.theinsaneapp.com/2021/05/best-free-python-programming-books.html#"
   ]
  },
  {
   "cell_type": "markdown",
   "id": "3bcf3b03",
   "metadata": {},
   "source": [
    "Python Data Science Handbook => https://jakevdp.github.io/PythonDataScienceHandbook/"
   ]
  },
  {
   "cell_type": "markdown",
   "id": "2dcf7eb9",
   "metadata": {},
   "source": [
    " GitHub Reposu - 1 => https://github.com/vinta/awesome-python\n",
    " \n",
    " GitHub Reposu - 2 => https://github.com/mahmoud/awesome-python-applications\n",
    "  \n",
    " GitHub Reposu - 3 => https://github.com/bharathgs/Awesome-pytorch-list\n",
    "   \n",
    " GitHub Reposu - 4 => https://github.com/timofurrer/awesome-asyncio\n",
    "    \n",
    " GitHub Reposu - 5 => https://github.com/markusschanta/awesome-jupyter\n",
    "     \n",
    " GitHub Reposu - 6 => https://github.com/Junnplus/awesome-python-books\n",
    "      \n",
    " GitHub Reposu - 7 => https://github.com/realpython/python-guide\n",
    "       \n",
    " GitHub Reposu - 8 => https://github.com/rasbt/python-machine-learning-book\n",
    " \n",
    " GitHub Reposu - 9 => https://github.com/careercup/ctci\n",
    " \n",
    " GitHub Reposu - 10 => https://github.com/donnemartin/interactive-coding-challenges"
   ]
  },
  {
   "cell_type": "markdown",
   "id": "fd648e54",
   "metadata": {},
   "source": [
    "**Kitap**\n",
    "\n",
    "Python® Notes for Professionals book => https://goalkicker.com/PythonBook/\n",
    "\n",
    "Think Complexity: Exploring Complexity Science in Python => https://greenteapress.com/complexity2/thinkcomplexity2.pdf\n",
    "\n",
    "How To Code in Python 3 => https://assets.digitalocean.com/books/python/how-to-code-in-python.pdf\n",
    "\n",
    "Programming walkthroughs: Coding with Python and Repl.it => https://i.ritzastatic.com/codewithreplit/e-books/coding-with-replit-export.pdf\n",
    "\n",
    "Think Stats: Probability and Statistic for Programmers => https://greenteapress.com/thinkstats/thinkstats.pdf\n",
    "\n",
    "Programming Computer Vision with Python => http://programmingcomputervision.com/downloads/ProgrammingComputerVision_CCdraft.pdf\n",
    "\n",
    "Problem Solving with Algorithms and Data Structures.pdf => https://www.cs.auckland.ac.nz/compsci105s1c/resources/ProblemSolvingwithAlgorithmsandDataStructures.pdf"
   ]
  },
  {
   "cell_type": "markdown",
   "id": "4ea72594",
   "metadata": {},
   "source": [
    "100+ Cheat Sheet For Data Science And Machine Learning => https://www.theinsaneapp.com/2020/12/machine-learning-and-data-science-cheat-sheets-pdf.html\n",
    "\n",
    "How To Build Recommendation Algorithms And System Designs => https://www.theinsaneapp.com/2021/03/system-design-and-recommendation-algorithms.html "
   ]
  }
 ],
 "metadata": {
  "kernelspec": {
   "display_name": "Python 3 (ipykernel)",
   "language": "python",
   "name": "python3"
  },
  "language_info": {
   "codemirror_mode": {
    "name": "ipython",
    "version": 3
   },
   "file_extension": ".py",
   "mimetype": "text/x-python",
   "name": "python",
   "nbconvert_exporter": "python",
   "pygments_lexer": "ipython3",
   "version": "3.11.7"
  }
 },
 "nbformat": 4,
 "nbformat_minor": 5
}
